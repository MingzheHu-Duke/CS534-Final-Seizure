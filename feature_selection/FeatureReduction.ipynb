{
 "cells": [
  {
   "cell_type": "code",
   "execution_count": 1,
   "metadata": {
    "id": "MQBiaVNy3hdw"
   },
   "outputs": [],
   "source": [
    "import numpy as np\n",
    "import pandas as pd\n",
    "import matplotlib.pyplot as plt\n",
    "import seaborn as sns\n",
    "from sklearn.svm import LinearSVC\n",
    "from sklearn.feature_selection import SelectFromModel, VarianceThreshold\n",
    "from sklearn.model_selection import GridSearchCV\n",
    "import warnings\n",
    "warnings.filterwarnings(\"ignore\")"
   ]
  },
  {
   "cell_type": "code",
   "execution_count": 3,
   "metadata": {
    "colab": {
     "base_uri": "https://localhost:8080/"
    },
    "id": "lTCz-v_43-CQ",
    "outputId": "9728e488-8a10-4ddd-ed3a-d3c2aa0fc9c3"
   },
   "outputs": [
    {
     "name": "stdout",
     "output_type": "stream",
     "text": [
      "Number of Observation(raw): 8064\n",
      "Number of features(raw): 449\n",
      "[[ 0.          1.         -0.111257    0.5060765  -1.780112  ]\n",
      " [ 0.          1.         -0.1037118   0.5001315  -1.659389  ]\n",
      " [ 0.          1.         -0.1007022   0.4940033  -1.611235  ]\n",
      " [ 0.          1.         -0.09124166  0.4639486  -1.459867  ]\n",
      " [ 0.          1.         -0.1056772   0.4936875  -1.690836  ]]\n"
     ]
    }
   ],
   "source": [
    "# Use Dog_1.csv as an example\n",
    "data = np.genfromtxt(\"../../files/SeizurePrediction/Dog_1.csv\", delimiter=\",\")\n",
    "# View the shape of the data\n",
    "print(\"Number of Observation(raw): {}\\nNumber of features(raw): {}\".format(data.shape[0], data.shape[1]-2))\n",
    "# Peek the sub data to make sure that the import succed\n",
    "print(data[0:5, 0:5])"
   ]
  },
  {
   "cell_type": "code",
   "execution_count": 4,
   "metadata": {
    "colab": {
     "base_uri": "https://localhost:8080/"
    },
    "id": "NK3O8-jw5sgk",
    "outputId": "db7bce1e-6736-4e94-a24c-9ed2aa3cbbf7"
   },
   "outputs": [
    {
     "name": "stdout",
     "output_type": "stream",
     "text": [
      "Number of Observation(Concat): 2688\n",
      "Number of features(Concat): 1344\n",
      "\n",
      "Length of the Label(Concat): 2688\n"
     ]
    }
   ],
   "source": [
    "# We need to concatenate the features every 3 rows\n",
    "# First separate the features and labels\n",
    "X_data_raw = data[:, 2:-1]\n",
    "y_data_raw = data[:, 0]\n",
    "# Reshape\n",
    "X_data = np.reshape(X_data_raw, (int(X_data_raw.shape[0]/3), -1))\n",
    "y_data = y_data_raw[[i for i in range(0, y_data_raw.shape[0], 3)]]\n",
    "# Shape\n",
    "print(\"Number of Observation(Concat): {}\\nNumber of features(Concat): {}\".format(X_data.shape[0], X_data.shape[1]))\n",
    "print(\"\\nLength of the Label(Concat): {}\".format(y_data.shape[0]))"
   ]
  },
  {
   "cell_type": "code",
   "execution_count": 5,
   "metadata": {
    "id": "Q6EQda_5Aqyz"
   },
   "outputs": [
    {
     "name": "stdout",
     "output_type": "stream",
     "text": [
      "Fitting 5 folds for each of 20 candidates, totalling 100 fits\n",
      "[CV] END .............................................C=0.01; total time=   0.3s\n",
      "[CV] END .............................................C=0.01; total time=   0.3s\n",
      "[CV] END .............................................C=0.01; total time=   0.3s\n",
      "[CV] END .............................................C=0.01; total time=   0.3s\n",
      "[CV] END .............................................C=0.01; total time=   0.3s\n",
      "[CV] END ..............................C=0.01438449888287663; total time=   0.3s\n",
      "[CV] END ..............................C=0.01438449888287663; total time=   0.3s\n",
      "[CV] END ..............................C=0.01438449888287663; total time=   0.3s\n",
      "[CV] END ..............................C=0.01438449888287663; total time=   0.3s\n",
      "[CV] END ..............................C=0.01438449888287663; total time=   0.3s\n",
      "[CV] END ...............................C=0.0206913808111479; total time=   0.4s\n",
      "[CV] END ...............................C=0.0206913808111479; total time=   0.4s\n",
      "[CV] END ...............................C=0.0206913808111479; total time=   0.4s\n",
      "[CV] END ...............................C=0.0206913808111479; total time=   0.4s\n",
      "[CV] END ...............................C=0.0206913808111479; total time=   0.3s\n",
      "[CV] END .............................C=0.029763514416313176; total time=   0.5s\n",
      "[CV] END .............................C=0.029763514416313176; total time=   0.5s\n",
      "[CV] END .............................C=0.029763514416313176; total time=   0.4s\n",
      "[CV] END .............................C=0.029763514416313176; total time=   0.4s\n",
      "[CV] END .............................C=0.029763514416313176; total time=   0.4s\n",
      "[CV] END ..............................C=0.04281332398719394; total time=   0.6s\n",
      "[CV] END ..............................C=0.04281332398719394; total time=   0.7s\n",
      "[CV] END ..............................C=0.04281332398719394; total time=   0.5s\n",
      "[CV] END ..............................C=0.04281332398719394; total time=   0.6s\n",
      "[CV] END ..............................C=0.04281332398719394; total time=   0.5s\n",
      "[CV] END ..............................C=0.06158482110660264; total time=   0.7s\n",
      "[CV] END ..............................C=0.06158482110660264; total time=   0.8s\n",
      "[CV] END ..............................C=0.06158482110660264; total time=   0.6s\n",
      "[CV] END ..............................C=0.06158482110660264; total time=   0.7s\n",
      "[CV] END ..............................C=0.06158482110660264; total time=   0.7s\n",
      "[CV] END ..............................C=0.08858667904100823; total time=   0.8s\n",
      "[CV] END ..............................C=0.08858667904100823; total time=   0.9s\n",
      "[CV] END ..............................C=0.08858667904100823; total time=   0.8s\n",
      "[CV] END ..............................C=0.08858667904100823; total time=   0.9s\n",
      "[CV] END ..............................C=0.08858667904100823; total time=   0.8s\n",
      "[CV] END ..............................C=0.12742749857031335; total time=   1.1s\n",
      "[CV] END ..............................C=0.12742749857031335; total time=   1.1s\n",
      "[CV] END ..............................C=0.12742749857031335; total time=   1.0s\n",
      "[CV] END ..............................C=0.12742749857031335; total time=   1.0s\n",
      "[CV] END ..............................C=0.12742749857031335; total time=   1.0s\n",
      "[CV] END ..............................C=0.18329807108324356; total time=   1.2s\n",
      "[CV] END ..............................C=0.18329807108324356; total time=   1.2s\n",
      "[CV] END ..............................C=0.18329807108324356; total time=   1.1s\n",
      "[CV] END ..............................C=0.18329807108324356; total time=   1.2s\n",
      "[CV] END ..............................C=0.18329807108324356; total time=   1.1s\n",
      "[CV] END ..............................C=0.26366508987303583; total time=   1.4s\n",
      "[CV] END ..............................C=0.26366508987303583; total time=   1.4s\n",
      "[CV] END ..............................C=0.26366508987303583; total time=   1.2s\n",
      "[CV] END ..............................C=0.26366508987303583; total time=   1.4s\n",
      "[CV] END ..............................C=0.26366508987303583; total time=   1.3s\n",
      "[CV] END ..............................C=0.37926901907322497; total time=   1.5s\n",
      "[CV] END ..............................C=0.37926901907322497; total time=   1.6s\n",
      "[CV] END ..............................C=0.37926901907322497; total time=   1.4s\n",
      "[CV] END ..............................C=0.37926901907322497; total time=   1.6s\n",
      "[CV] END ..............................C=0.37926901907322497; total time=   1.4s\n",
      "[CV] END ...............................C=0.5455594781168517; total time=   1.7s\n",
      "[CV] END ...............................C=0.5455594781168517; total time=   1.7s\n",
      "[CV] END ...............................C=0.5455594781168517; total time=   1.7s\n",
      "[CV] END ...............................C=0.5455594781168517; total time=   1.7s\n",
      "[CV] END ...............................C=0.5455594781168517; total time=   1.7s\n",
      "[CV] END ...............................C=0.7847599703514611; total time=   2.0s\n",
      "[CV] END ...............................C=0.7847599703514611; total time=   2.0s\n",
      "[CV] END ...............................C=0.7847599703514611; total time=   1.9s\n",
      "[CV] END ...............................C=0.7847599703514611; total time=   2.0s\n",
      "[CV] END ...............................C=0.7847599703514611; total time=   2.0s\n",
      "[CV] END ...............................C=1.1288378916846884; total time=   2.3s\n",
      "[CV] END ...............................C=1.1288378916846884; total time=   2.1s\n",
      "[CV] END ...............................C=1.1288378916846884; total time=   2.2s\n",
      "[CV] END ...............................C=1.1288378916846884; total time=   2.2s\n",
      "[CV] END ...............................C=1.1288378916846884; total time=   2.2s\n",
      "[CV] END ................................C=1.623776739188721; total time=   2.7s\n",
      "[CV] END ................................C=1.623776739188721; total time=   2.3s\n",
      "[CV] END ................................C=1.623776739188721; total time=   2.4s\n",
      "[CV] END ................................C=1.623776739188721; total time=   2.4s\n",
      "[CV] END ................................C=1.623776739188721; total time=   2.4s\n",
      "[CV] END ...............................C=2.3357214690901213; total time=   3.0s\n",
      "[CV] END ...............................C=2.3357214690901213; total time=   2.8s\n",
      "[CV] END ...............................C=2.3357214690901213; total time=   2.8s\n",
      "[CV] END ...............................C=2.3357214690901213; total time=   2.7s\n",
      "[CV] END ...............................C=2.3357214690901213; total time=   2.9s\n",
      "[CV] END ................................C=3.359818286283781; total time=   3.2s\n",
      "[CV] END ................................C=3.359818286283781; total time=   3.2s\n",
      "[CV] END ................................C=3.359818286283781; total time=   3.5s\n",
      "[CV] END ................................C=3.359818286283781; total time=   3.2s\n",
      "[CV] END ................................C=3.359818286283781; total time=   3.5s\n",
      "[CV] END ................................C=4.832930238571752; total time=   3.9s\n",
      "[CV] END ................................C=4.832930238571752; total time=   3.4s\n",
      "[CV] END ................................C=4.832930238571752; total time=   3.7s\n",
      "[CV] END ................................C=4.832930238571752; total time=   3.5s\n",
      "[CV] END ................................C=4.832930238571752; total time=   3.8s\n",
      "[CV] END ................................C=6.951927961775605; total time=   4.3s\n",
      "[CV] END ................................C=6.951927961775605; total time=   4.0s\n",
      "[CV] END ................................C=6.951927961775605; total time=   4.2s\n",
      "[CV] END ................................C=6.951927961775605; total time=   4.1s\n",
      "[CV] END ................................C=6.951927961775605; total time=   4.4s\n",
      "[CV] END .............................................C=10.0; total time=   4.5s\n",
      "[CV] END .............................................C=10.0; total time=   4.3s\n",
      "[CV] END .............................................C=10.0; total time=   4.7s\n",
      "[CV] END .............................................C=10.0; total time=   4.4s\n",
      "[CV] END .............................................C=10.0; total time=   4.7s\n"
     ]
    },
    {
     "data": {
      "text/plain": [
       "GridSearchCV(estimator=LinearSVC(dual=False, penalty='l1'),\n",
       "             param_grid={'C': array([ 0.01      ,  0.0143845 ,  0.02069138,  0.02976351,  0.04281332,\n",
       "        0.06158482,  0.08858668,  0.1274275 ,  0.18329807,  0.26366509,\n",
       "        0.37926902,  0.54555948,  0.78475997,  1.12883789,  1.62377674,\n",
       "        2.33572147,  3.35981829,  4.83293024,  6.95192796, 10.        ])},\n",
       "             verbose=2)"
      ]
     },
     "execution_count": 5,
     "metadata": {},
     "output_type": "execute_result"
    }
   ],
   "source": [
    "# Now for feature selection\n",
    "# Find of the best regularization degree\n",
    "parameters = {\"C\": np.logspace(-2, 1, num=20)}\n",
    "lsvc_op = LinearSVC(penalty=\"l1\", dual=False)\n",
    "clf = GridSearchCV(lsvc_op, parameters, verbose=2)\n",
    "clf.fit(X_data, y_data)"
   ]
  },
  {
   "cell_type": "code",
   "execution_count": 6,
   "metadata": {
    "colab": {
     "base_uri": "https://localhost:8080/"
    },
    "id": "CSRIIl4xKFvv",
    "outputId": "54e3aa9e-538a-4301-9085-6a52c29ee172"
   },
   "outputs": [
    {
     "name": "stdout",
     "output_type": "stream",
     "text": [
      "Number of Observation: 2688\n",
      "Number of features(Reduced): 73   \n"
     ]
    }
   ],
   "source": [
    "# Get the best parameter\n",
    "best_c = clf.best_params_\n",
    "lsvc_fs = LinearSVC(C=best_c[\"C\"], penalty=\"l1\", dual=False, random_state=2021).fit(X_data, y_data)\n",
    "# Select from model\n",
    "model = SelectFromModel(lsvc_fs, prefit=True)\n",
    "X_data_reduced = model.transform(X_data)\n",
    "# Print the new shape\n",
    "print(\"Number of Observation: {}\\nNumber of features(Reduced): {}\\\n",
    "   \".format(X_data_reduced.shape[0], X_data_reduced.shape[1]))"
   ]
  },
  {
   "cell_type": "code",
   "execution_count": 11,
   "metadata": {},
   "outputs": [
    {
     "data": {
      "text/plain": [
       "(array([   6,    8,   31,   32,   33,   68,   79,   80,   81,   93,   94,\n",
       "         104,  116,  127,  129,  140,  152,  166,  176,  188,  224,  228,\n",
       "         229,  454,  456,  468,  480,  481,  492,  506,  516,  528,  540,\n",
       "         552,  564,  575,  576,  577,  588,  599,  612,  624,  673,  677,\n",
       "         902,  903,  904,  906,  916,  929,  940,  964,  966,  976,  978,\n",
       "        1000, 1002, 1012, 1023, 1024, 1025, 1026, 1036, 1047, 1049, 1050,\n",
       "        1060, 1072, 1074, 1086, 1120, 1124, 1125], dtype=int64),)"
      ]
     },
     "execution_count": 11,
     "metadata": {},
     "output_type": "execute_result"
    }
   ],
   "source": [
    "np.where(model.get_support())"
   ]
  },
  {
   "cell_type": "code",
   "execution_count": 100,
   "metadata": {
    "colab": {
     "base_uri": "https://localhost:8080/"
    },
    "id": "g5F6G6kAG_Nk",
    "outputId": "404bd2f1-f0ad-42d8-f1f8-b58bb82c9bf3"
   },
   "outputs": [
    {
     "name": "stdout",
     "output_type": "stream",
     "text": [
      "Number of Observation: 2688\n",
      "Number of features(Furter Reduced): 65   \n"
     ]
    }
   ],
   "source": [
    "# If need further feature selection\n",
    "sel = VarianceThreshold(threshold=(.8 * (1 - .8)))\n",
    "X_data_further = sel.fit_transform(X_data_reduced)\n",
    "print(\"Number of Observation: {}\\nNumber of features(Furter Reduced): {}\\\n",
    "   \".format(X_data_further.shape[0], X_data_further.shape[1]))"
   ]
  },
  {
   "cell_type": "code",
   "execution_count": 119,
   "metadata": {
    "colab": {
     "base_uri": "https://localhost:8080/",
     "height": 1000
    },
    "id": "SWqjWII_Qb_0",
    "outputId": "ae080b45-7d07-4029-b4f5-790c198666e7"
   },
   "outputs": [
    {
     "data": {
      "image/png": "[encoded data removed]",
      "text/plain": [
       "<Figure size 1080x1080 with 2 Axes>"
      ]
     },
     "metadata": {
      "needs_background": "light"
     },
     "output_type": "display_data"
    },
    {
     "data": {
      "image/png": "[encoded data removed]",
      "text/plain": [
       "<Figure size 432x288 with 1 Axes>"
      ]
     },
     "metadata": {
      "needs_background": "light"
     },
     "output_type": "display_data"
    }
   ],
   "source": [
    "# Plot something\n",
    "# Covariance matrix\n",
    "df = pd.DataFrame(np.concatenate((X_data_reduced,\n",
    "          np.reshape(y_data, (-1, 1))), axis=1))\n",
    "plt.figure(figsize=(15, 15))\n",
    "sns.heatmap(df.corr())\n",
    "plt.show()\n",
    "\n",
    "df_y = pd.Series(y_data).value_counts().plot.bar()\n",
    "plt.title(\"Class Distribution\")\n",
    "plt.show()"
   ]
  },
  {
   "cell_type": "code",
   "execution_count": 61,
   "metadata": {},
   "outputs": [
    {
     "data": {
      "text/plain": [
       "27"
      ]
     },
     "execution_count": 61,
     "metadata": {},
     "output_type": "execute_result"
    }
   ],
   "source": [
    "447//16"
   ]
  },
  {
   "cell_type": "code",
   "execution_count": 72,
   "metadata": {},
   "outputs": [],
   "source": [
    "def get_fname(x,nc=16):\n",
    "    nf = 28*nc+1\n",
    "    window = ((x//nf)+1)*80\n",
    "    timeinw = x%nf\n",
    "    time = timeinw//nc\n",
    "    idx = (timeinw%nc) + 1\n",
    "    entries = [\"T_corrs_mean\", \"T_corrs_std\", \"T_corrs_sum\", \"T_corrs_abs_sum\", \"T_corrs_D\", \"T_mean\", \"T_abs_mean\", \"T_std\", \"T_sum\", \"T_rms\", \"T_kurtosis\", \"T_skewness\"]\n",
    "    entries += [\"f_corr_mean\", \"f_corr_std\", \"f_corr_sum\", \"f_corr_eig\"]\n",
    "    entries += [\"f_max_bands(band_{})\".format(t+1) for t in range(11)]\n",
    "    entries += [\"f_max_bands\", \"f_max_bands_avg\"]\n",
    "    entry = entries[time.astype(int)]\n",
    "    return(\"{}_{}_{}\".format(entry,idx,window))\n",
    "\n",
    "        "
   ]
  },
  {
   "cell_type": "code",
   "execution_count": 73,
   "metadata": {},
   "outputs": [
    {
     "data": {
      "text/plain": [
       "['T_corrs_mean_7_80',\n",
       " 'T_corrs_mean_9_80',\n",
       " 'T_corrs_std_16_80',\n",
       " 'T_corrs_sum_1_80',\n",
       " 'T_corrs_sum_2_80',\n",
       " 'T_corrs_D_5_80',\n",
       " 'T_corrs_D_16_80',\n",
       " 'T_mean_1_80',\n",
       " 'T_mean_2_80',\n",
       " 'T_mean_14_80',\n",
       " 'T_mean_15_80',\n",
       " 'T_abs_mean_9_80',\n",
       " 'T_std_5_80',\n",
       " 'T_std_16_80',\n",
       " 'T_sum_2_80',\n",
       " 'T_sum_13_80',\n",
       " 'T_rms_9_80',\n",
       " 'T_kurtosis_7_80',\n",
       " 'T_skewness_1_80',\n",
       " 'T_skewness_13_80',\n",
       " 'f_corr_sum_1_80',\n",
       " 'f_corr_sum_5_80',\n",
       " 'f_corr_sum_6_80',\n",
       " 'T_corrs_mean_6_160',\n",
       " 'T_corrs_mean_8_160',\n",
       " 'T_corrs_std_4_160',\n",
       " 'T_corrs_std_16_160',\n",
       " 'T_corrs_sum_1_160',\n",
       " 'T_corrs_sum_12_160',\n",
       " 'T_corrs_abs_sum_10_160',\n",
       " 'T_corrs_D_4_160',\n",
       " 'T_corrs_D_16_160',\n",
       " 'T_mean_12_160',\n",
       " 'T_abs_mean_8_160',\n",
       " 'T_std_4_160',\n",
       " 'T_std_15_160',\n",
       " 'T_std_16_160',\n",
       " 'T_sum_1_160',\n",
       " 'T_sum_12_160',\n",
       " 'T_rms_7_160',\n",
       " 'T_kurtosis_4_160',\n",
       " 'T_kurtosis_16_160',\n",
       " 'f_corr_sum_1_160',\n",
       " 'f_corr_sum_5_160',\n",
       " 'T_corrs_mean_5_240',\n",
       " 'T_corrs_mean_6_240',\n",
       " 'T_corrs_mean_7_240',\n",
       " 'T_corrs_mean_9_240',\n",
       " 'T_corrs_std_3_240',\n",
       " 'T_corrs_std_16_240',\n",
       " 'T_corrs_sum_11_240',\n",
       " 'T_corrs_D_3_240',\n",
       " 'T_corrs_D_5_240',\n",
       " 'T_corrs_D_15_240',\n",
       " 'T_mean_1_240',\n",
       " 'T_abs_mean_7_240',\n",
       " 'T_abs_mean_9_240',\n",
       " 'T_std_3_240',\n",
       " 'T_std_14_240',\n",
       " 'T_std_15_240',\n",
       " 'T_std_16_240',\n",
       " 'T_sum_1_240',\n",
       " 'T_sum_11_240',\n",
       " 'T_rms_6_240',\n",
       " 'T_rms_8_240',\n",
       " 'T_rms_9_240',\n",
       " 'T_kurtosis_3_240',\n",
       " 'T_kurtosis_15_240',\n",
       " 'T_skewness_1_240',\n",
       " 'T_skewness_13_240',\n",
       " 'f_corr_std_15_240',\n",
       " 'f_corr_sum_3_240',\n",
       " 'f_corr_sum_4_240']"
      ]
     },
     "execution_count": 73,
     "metadata": {},
     "output_type": "execute_result"
    }
   ],
   "source": [
    "feature_names = np.where(model.get_support())[0]\n",
    "names = [get_fname(i) for i in feature_names]\n",
    "names"
   ]
  },
  {
   "cell_type": "code",
   "execution_count": 48,
   "metadata": {},
   "outputs": [
    {
     "data": {
      "text/plain": [
       "array([   6,    8,   31,   32,   33,   68,   79,   80,   81,   93,   94,\n",
       "        104,  116,  127,  129,  140,  152,  166,  176,  188,  224,  228,\n",
       "        229,  454,  456,  468,  480,  481,  492,  506,  516,  528,  540,\n",
       "        552,  564,  575,  576,  577,  588,  599,  612,  624,  673,  677,\n",
       "        902,  903,  904,  906,  916,  929,  940,  964,  966,  976,  978,\n",
       "       1000, 1002, 1012, 1023, 1024, 1025, 1026, 1036, 1047, 1049, 1050,\n",
       "       1060, 1072, 1074, 1086, 1120, 1124, 1125], dtype=int64)"
      ]
     },
     "execution_count": 48,
     "metadata": {},
     "output_type": "execute_result"
    }
   ],
   "source": [
    "np.where(model.get_support())[0]"
   ]
  },
  {
   "cell_type": "code",
   "execution_count": 69,
   "metadata": {},
   "outputs": [
    {
     "data": {
      "text/plain": [
       "70"
      ]
     },
     "execution_count": 69,
     "metadata": {},
     "output_type": "execute_result"
    }
   ],
   "source": [
    "1125//16"
   ]
  },
  {
   "cell_type": "code",
   "execution_count": 54,
   "metadata": {},
   "outputs": [
    {
     "data": {
      "text/plain": [
       "28"
      ]
     },
     "execution_count": 54,
     "metadata": {},
     "output_type": "execute_result"
    }
   ],
   "source": [
    "entries = [\"T_corrs_mean\", \"T_corrs_std\", \"T_corrs_sum\", \"T_corrs_abs_sum\", \"T_corrs_D\", \"T_mean\", \"T_abs_mean\", \"T_std\", \"T_sum\", \"T_rms\", \"T_kurtosis\", \"T_skewness\"]\n",
    "entries += [\"f_corr_mean\", \"f_corr_std\", \"f_corr_sum\", \"f_corr_eig\"]\n",
    "entries += [\"f_max_bands(band_{})\".format(t+1) for t in range(11)]\n",
    "entries.append(\"f_max_bands_avg\")\n",
    "len(entries)"
   ]
  },
  {
   "cell_type": "code",
   "execution_count": null,
   "metadata": {},
   "outputs": [],
   "source": []
  }
 ],
 "metadata": {
  "colab": {
   "name": "FeatureReduction.ipynb",
   "provenance": []
  },
  "kernelspec": {
   "display_name": "Python 3",
   "language": "python",
   "name": "python3"
  },
  "language_info": {
   "codemirror_mode": {
    "name": "ipython",
    "version": 3
   },
   "file_extension": ".py",
   "mimetype": "text/x-python",
   "name": "python",
   "nbconvert_exporter": "python",
   "pygments_lexer": "ipython3",
   "version": "3.9.4"
  }
 },
 "nbformat": 4,
 "nbformat_minor": 4
}
